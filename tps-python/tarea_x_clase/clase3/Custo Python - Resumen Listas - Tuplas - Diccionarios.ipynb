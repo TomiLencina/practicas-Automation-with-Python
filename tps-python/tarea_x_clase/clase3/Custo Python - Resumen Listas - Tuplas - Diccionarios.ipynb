{
 "cells": [
  {
   "cell_type": "markdown",
   "id": "36c269e6",
   "metadata": {},
   "source": [
    "# Python Básico - Resumen - Estructuras de datos"
   ]
  },
  {
   "cell_type": "markdown",
   "id": "1cab00ec",
   "metadata": {},
   "source": [
    "## Listas"
   ]
  },
  {
   "cell_type": "markdown",
   "id": "4043fe0c",
   "metadata": {},
   "source": [
    "Las listas permiten almacenar objetos mediante un orden definido y con posibilidad\n",
    "de duplicados.\n",
    "\n",
    "Las listas son estructuras de datos mutables, lo que significa que podemos\n",
    "añadir, eliminar o modificar sus elementos."
   ]
  },
  {
   "cell_type": "code",
   "execution_count": 339,
   "id": "a9e2474f",
   "metadata": {
    "ExecuteTime": {
     "end_time": "2023-01-10T05:42:36.286473Z",
     "start_time": "2023-01-10T05:42:36.274421Z"
    }
   },
   "outputs": [],
   "source": [
    "# Lista con datos del mismo tipo\n",
    "languages = ['Python', 'Ruby', 'Javascript']\n",
    "fibonacci = [0, 1, 1, 2, 3, 5, 8, 13]"
   ]
  },
  {
   "cell_type": "code",
   "execution_count": 340,
   "id": "015153da",
   "metadata": {
    "ExecuteTime": {
     "end_time": "2023-01-10T05:42:36.302455Z",
     "start_time": "2023-01-10T05:42:36.289422Z"
    }
   },
   "outputs": [],
   "source": [
    "#Listas con datos heterogéneos\n",
    "data = ['Tenerife', {'cielo': 'limpio', 'temp': 24}, 3718, (28.2933947, -16.5226597)]"
   ]
  },
  {
   "cell_type": "markdown",
   "id": "9fe2d2fe",
   "metadata": {},
   "source": [
    "### Funciones incorpodadas de python aplicables a listas"
   ]
  },
  {
   "cell_type": "markdown",
   "id": "aba81e5e",
   "metadata": {
    "ExecuteTime": {
     "end_time": "2023-01-10T01:25:18.072599Z",
     "start_time": "2023-01-10T01:25:18.056577Z"
    }
   },
   "source": [
    "#### Crear una lista o transformar otro tipo de objeto a lista"
   ]
  },
  {
   "cell_type": "code",
   "execution_count": 341,
   "id": "8483ce5f",
   "metadata": {
    "ExecuteTime": {
     "end_time": "2023-01-10T05:42:36.318461Z",
     "start_time": "2023-01-10T05:42:36.304422Z"
    }
   },
   "outputs": [
    {
     "data": {
      "text/plain": [
       "[]"
      ]
     },
     "execution_count": 341,
     "metadata": {},
     "output_type": "execute_result"
    }
   ],
   "source": [
    "#Crear una lista vacía\n",
    "lista = list()\n",
    "lista"
   ]
  },
  {
   "cell_type": "code",
   "execution_count": 342,
   "id": "0716f2d3",
   "metadata": {},
   "outputs": [],
   "source": [
    "lista = []"
   ]
  },
  {
   "cell_type": "code",
   "execution_count": 343,
   "id": "076f007c",
   "metadata": {
    "ExecuteTime": {
     "end_time": "2023-01-10T05:42:36.333449Z",
     "start_time": "2023-01-10T05:42:36.322422Z"
    }
   },
   "outputs": [
    {
     "name": "stdout",
     "output_type": "stream",
     "text": [
      "['c', 'a', 'd', 'e', 'n', 'a', ' ', 'd', 'e', ' ', 'c', 'a', 'r', 'a', 'c', 't', 'e', 'r', 'e', 's']\n"
     ]
    }
   ],
   "source": [
    "# Convertir cadena en lista\n",
    "cadena = 'cadena de caracteres' \n",
    "caracteres = list(cadena)\n",
    "print(caracteres)"
   ]
  },
  {
   "cell_type": "markdown",
   "id": "1713f852",
   "metadata": {},
   "source": [
    "#### Cantidad de elementos de una lsita"
   ]
  },
  {
   "cell_type": "code",
   "execution_count": 344,
   "id": "c497483e",
   "metadata": {
    "ExecuteTime": {
     "end_time": "2023-01-10T05:42:36.348454Z",
     "start_time": "2023-01-10T05:42:36.335421Z"
    }
   },
   "outputs": [
    {
     "data": {
      "text/plain": [
       "3"
      ]
     },
     "execution_count": 344,
     "metadata": {},
     "output_type": "execute_result"
    }
   ],
   "source": [
    "len(languages)"
   ]
  },
  {
   "cell_type": "markdown",
   "id": "178b1295",
   "metadata": {},
   "source": [
    "#### Borrar elementos de una lista"
   ]
  },
  {
   "cell_type": "code",
   "execution_count": 345,
   "id": "0492e228",
   "metadata": {
    "ExecuteTime": {
     "end_time": "2023-01-10T05:42:36.363452Z",
     "start_time": "2023-01-10T05:42:36.350422Z"
    }
   },
   "outputs": [
    {
     "data": {
      "text/plain": [
       "['Python', 'Javascript']"
      ]
     },
     "execution_count": 345,
     "metadata": {},
     "output_type": "execute_result"
    }
   ],
   "source": [
    "del languages[1]\n",
    "languages"
   ]
  },
  {
   "cell_type": "markdown",
   "id": "11c8de72",
   "metadata": {},
   "source": [
    "#### Verificar si un elemento está en la lista"
   ]
  },
  {
   "cell_type": "code",
   "execution_count": 346,
   "id": "6996adef",
   "metadata": {
    "ExecuteTime": {
     "end_time": "2023-01-10T05:42:36.378421Z",
     "start_time": "2023-01-10T05:42:36.365424Z"
    }
   },
   "outputs": [
    {
     "data": {
      "text/plain": [
       "True"
      ]
     },
     "execution_count": 346,
     "metadata": {},
     "output_type": "execute_result"
    }
   ],
   "source": [
    "8 in fibonacci"
   ]
  },
  {
   "cell_type": "markdown",
   "id": "25bd3eef",
   "metadata": {},
   "source": [
    "#### Funciones matemáticas"
   ]
  },
  {
   "cell_type": "code",
   "execution_count": 347,
   "id": "3016834e",
   "metadata": {
    "ExecuteTime": {
     "end_time": "2023-01-10T05:42:36.394423Z",
     "start_time": "2023-01-10T05:42:36.380425Z"
    }
   },
   "outputs": [
    {
     "data": {
      "text/plain": [
       "13"
      ]
     },
     "execution_count": 347,
     "metadata": {},
     "output_type": "execute_result"
    }
   ],
   "source": [
    "max(fibonacci)"
   ]
  },
  {
   "cell_type": "code",
   "execution_count": 348,
   "id": "e6e7384a",
   "metadata": {},
   "outputs": [
    {
     "data": {
      "text/plain": [
       "'Python'"
      ]
     },
     "execution_count": 348,
     "metadata": {},
     "output_type": "execute_result"
    }
   ],
   "source": [
    "max(languages)"
   ]
  },
  {
   "cell_type": "code",
   "execution_count": 349,
   "id": "08b2cb73",
   "metadata": {
    "ExecuteTime": {
     "end_time": "2023-01-10T05:42:36.410427Z",
     "start_time": "2023-01-10T05:42:36.396423Z"
    }
   },
   "outputs": [
    {
     "data": {
      "text/plain": [
       "0"
      ]
     },
     "execution_count": 349,
     "metadata": {},
     "output_type": "execute_result"
    }
   ],
   "source": [
    "min(fibonacci)"
   ]
  },
  {
   "cell_type": "code",
   "execution_count": 350,
   "id": "41e77339",
   "metadata": {
    "ExecuteTime": {
     "end_time": "2023-01-10T05:42:36.426423Z",
     "start_time": "2023-01-10T05:42:36.415423Z"
    }
   },
   "outputs": [
    {
     "data": {
      "text/plain": [
       "33"
      ]
     },
     "execution_count": 350,
     "metadata": {},
     "output_type": "execute_result"
    }
   ],
   "source": [
    "sum(fibonacci)"
   ]
  },
  {
   "cell_type": "markdown",
   "id": "42adaafa",
   "metadata": {},
   "source": [
    "### Operaciones con Listas"
   ]
  },
  {
   "cell_type": "markdown",
   "id": "a35e78a4",
   "metadata": {},
   "source": [
    "#### Obtener un elemento"
   ]
  },
  {
   "cell_type": "code",
   "execution_count": 351,
   "id": "e766846f",
   "metadata": {
    "ExecuteTime": {
     "end_time": "2023-01-10T05:42:36.442456Z",
     "start_time": "2023-01-10T05:42:36.428424Z"
    }
   },
   "outputs": [],
   "source": [
    "shopping = ['Agua', 'Huevos', 'Aceite', 'Sal', 'Limón']"
   ]
  },
  {
   "cell_type": "code",
   "execution_count": 352,
   "id": "a964ca94",
   "metadata": {
    "ExecuteTime": {
     "end_time": "2023-01-10T05:42:36.458456Z",
     "start_time": "2023-01-10T05:42:36.444428Z"
    }
   },
   "outputs": [
    {
     "data": {
      "text/plain": [
       "'Huevos'"
      ]
     },
     "execution_count": 352,
     "metadata": {},
     "output_type": "execute_result"
    }
   ],
   "source": [
    "shopping [1]"
   ]
  },
  {
   "cell_type": "code",
   "execution_count": 353,
   "id": "7ddaf539",
   "metadata": {
    "ExecuteTime": {
     "end_time": "2023-01-10T05:42:36.474421Z",
     "start_time": "2023-01-10T05:42:36.461426Z"
    }
   },
   "outputs": [
    {
     "data": {
      "text/plain": [
       "'Limón'"
      ]
     },
     "execution_count": 353,
     "metadata": {},
     "output_type": "execute_result"
    }
   ],
   "source": [
    "shopping [-1]"
   ]
  },
  {
   "cell_type": "markdown",
   "id": "4803acf4",
   "metadata": {
    "ExecuteTime": {
     "end_time": "2023-01-09T20:57:11.518655Z",
     "start_time": "2023-01-09T20:57:11.511698Z"
    }
   },
   "source": [
    "#### Slicing"
   ]
  },
  {
   "cell_type": "code",
   "execution_count": 354,
   "id": "f734ba8d",
   "metadata": {
    "ExecuteTime": {
     "end_time": "2023-01-10T05:42:36.490424Z",
     "start_time": "2023-01-10T05:42:36.477424Z"
    }
   },
   "outputs": [
    {
     "data": {
      "text/plain": [
       "['Huevos', 'Aceite', 'Sal']"
      ]
     },
     "execution_count": 354,
     "metadata": {},
     "output_type": "execute_result"
    }
   ],
   "source": [
    "shopping[1:4]"
   ]
  },
  {
   "cell_type": "code",
   "execution_count": 355,
   "id": "f5850908",
   "metadata": {
    "ExecuteTime": {
     "end_time": "2023-01-10T05:42:36.506424Z",
     "start_time": "2023-01-10T05:42:36.494425Z"
    }
   },
   "outputs": [
    {
     "data": {
      "text/plain": [
       "['Limón', 'Sal', 'Aceite']"
      ]
     },
     "execution_count": 355,
     "metadata": {},
     "output_type": "execute_result"
    }
   ],
   "source": [
    "shopping[-1: -4: -1]"
   ]
  },
  {
   "cell_type": "code",
   "execution_count": 356,
   "id": "3d86db36",
   "metadata": {
    "ExecuteTime": {
     "end_time": "2023-01-10T05:42:36.522424Z",
     "start_time": "2023-01-10T05:42:36.510423Z"
    }
   },
   "outputs": [
    {
     "data": {
      "text/plain": [
       "['Limón', 'Sal', 'Aceite', 'Huevos', 'Agua']"
      ]
     },
     "execution_count": 356,
     "metadata": {},
     "output_type": "execute_result"
    }
   ],
   "source": [
    "#Invertir una lista\n",
    "shopping[::-1]"
   ]
  },
  {
   "cell_type": "markdown",
   "id": "ff7463c9",
   "metadata": {},
   "source": [
    "#### Cambiar un elemento\n",
    "Modifica la lista original"
   ]
  },
  {
   "cell_type": "code",
   "execution_count": 357,
   "id": "dc29bf64",
   "metadata": {
    "ExecuteTime": {
     "end_time": "2023-01-10T05:42:36.537422Z",
     "start_time": "2023-01-10T05:42:36.527425Z"
    }
   },
   "outputs": [
    {
     "data": {
      "text/plain": [
       "['Agua', 'Huevos', 'Aceite', 'Pimienta', 'Limón']"
      ]
     },
     "execution_count": 357,
     "metadata": {},
     "output_type": "execute_result"
    }
   ],
   "source": [
    "shopping[3] = 'Pimienta'\n",
    "shopping"
   ]
  },
  {
   "cell_type": "markdown",
   "id": "0e501c51",
   "metadata": {},
   "source": [
    "#### Cambiar una porción de una lista\n",
    "Modifica la lista original"
   ]
  },
  {
   "cell_type": "code",
   "execution_count": 358,
   "id": "ea95faef",
   "metadata": {
    "ExecuteTime": {
     "end_time": "2023-01-10T05:42:36.552424Z",
     "start_time": "2023-01-10T05:42:36.540424Z"
    }
   },
   "outputs": [
    {
     "data": {
      "text/plain": [
       "['Agua', 'Leche', 'Pan', 'Pimienta', 'Limón']"
      ]
     },
     "execution_count": 358,
     "metadata": {},
     "output_type": "execute_result"
    }
   ],
   "source": [
    "shopping[1:3] = ['Leche', 'Pan']\n",
    "shopping"
   ]
  },
  {
   "cell_type": "markdown",
   "id": "3ae41490",
   "metadata": {},
   "source": [
    "#### Repetir una lista o parte de ella"
   ]
  },
  {
   "cell_type": "code",
   "execution_count": 359,
   "id": "b539686c",
   "metadata": {
    "ExecuteTime": {
     "end_time": "2023-01-10T05:42:36.568424Z",
     "start_time": "2023-01-10T05:42:36.558424Z"
    }
   },
   "outputs": [
    {
     "data": {
      "text/plain": [
       "['Agua', 'Leche', 'Pan', 'Agua', 'Leche', 'Pan']"
      ]
     },
     "execution_count": 359,
     "metadata": {},
     "output_type": "execute_result"
    }
   ],
   "source": [
    "shopping[:3] * 2"
   ]
  },
  {
   "cell_type": "markdown",
   "id": "37639033",
   "metadata": {},
   "source": [
    "#### Concatenar listas"
   ]
  },
  {
   "cell_type": "code",
   "execution_count": 360,
   "id": "39cabe19",
   "metadata": {
    "ExecuteTime": {
     "end_time": "2023-01-10T05:42:36.584423Z",
     "start_time": "2023-01-10T05:42:36.571423Z"
    }
   },
   "outputs": [
    {
     "data": {
      "text/plain": [
       "['Elemto1', 'Elemento2', 'Elemento3', 'Cosa1', 'Cosa2', 'Cosa3']"
      ]
     },
     "execution_count": 360,
     "metadata": {},
     "output_type": "execute_result"
    }
   ],
   "source": [
    "lista1 = ['Elemto1', 'Elemento2', 'Elemento3']\n",
    "lista2 = ['Cosa1', 'Cosa2', 'Cosa3']\n",
    "lista1 + lista2"
   ]
  },
  {
   "cell_type": "markdown",
   "id": "ea44b478",
   "metadata": {},
   "source": [
    "### Métodos de las listas\n",
    "Nota, la mayoria de los métodos modifican la lista original"
   ]
  },
  {
   "cell_type": "markdown",
   "id": "59d7c587",
   "metadata": {},
   "source": [
    "#### Añadir un elemento al final"
   ]
  },
  {
   "cell_type": "code",
   "execution_count": 361,
   "id": "d64b6e75",
   "metadata": {
    "ExecuteTime": {
     "end_time": "2023-01-10T05:42:36.600423Z",
     "start_time": "2023-01-10T05:42:36.587423Z"
    }
   },
   "outputs": [
    {
     "data": {
      "text/plain": [
       "['Agua', 'Leche', 'Pan', 'Pimienta', 'Limón', 'Azúcar']"
      ]
     },
     "execution_count": 361,
     "metadata": {},
     "output_type": "execute_result"
    }
   ],
   "source": [
    "shopping.append('Azúcar')\n",
    "shopping"
   ]
  },
  {
   "cell_type": "markdown",
   "id": "68719be1",
   "metadata": {},
   "source": [
    "#### Insertar un elemento según índice"
   ]
  },
  {
   "cell_type": "code",
   "execution_count": 362,
   "id": "92da9c93",
   "metadata": {
    "ExecuteTime": {
     "end_time": "2023-01-10T05:42:36.616423Z",
     "start_time": "2023-01-10T05:42:36.603422Z"
    }
   },
   "outputs": [
    {
     "data": {
      "text/plain": [
       "['Agua', 'Leche', 'Arroz', 'Pan', 'Pimienta', 'Limón', 'Azúcar']"
      ]
     },
     "execution_count": 362,
     "metadata": {},
     "output_type": "execute_result"
    }
   ],
   "source": [
    "shopping.insert(2, 'Arroz')\n",
    "shopping"
   ]
  },
  {
   "cell_type": "markdown",
   "id": "61cf8e60",
   "metadata": {},
   "source": [
    "#### Concatenar una lista con otra, modificando la primera"
   ]
  },
  {
   "cell_type": "code",
   "execution_count": 363,
   "id": "21617de0",
   "metadata": {
    "ExecuteTime": {
     "end_time": "2023-01-10T05:42:36.632422Z",
     "start_time": "2023-01-10T05:42:36.619425Z"
    }
   },
   "outputs": [],
   "source": [
    "shopping2 = ['Naranja', 'Manzana']"
   ]
  },
  {
   "cell_type": "code",
   "execution_count": 364,
   "id": "a1901149",
   "metadata": {
    "ExecuteTime": {
     "end_time": "2023-01-10T05:42:36.648422Z",
     "start_time": "2023-01-10T05:42:36.635422Z"
    }
   },
   "outputs": [
    {
     "name": "stdout",
     "output_type": "stream",
     "text": [
      "['Agua', 'Leche', 'Arroz', 'Pan', 'Pimienta', 'Limón', 'Azúcar', 'Naranja', 'Manzana']\n"
     ]
    }
   ],
   "source": [
    "shopping.extend(shopping2)\n",
    "print(shopping)"
   ]
  },
  {
   "cell_type": "markdown",
   "id": "f08a4c9e",
   "metadata": {},
   "source": [
    "#### Borrar y extraer elemento según índice"
   ]
  },
  {
   "cell_type": "code",
   "execution_count": 365,
   "id": "480a79f8",
   "metadata": {
    "ExecuteTime": {
     "end_time": "2023-01-10T05:42:36.664422Z",
     "start_time": "2023-01-10T05:42:36.651424Z"
    }
   },
   "outputs": [
    {
     "data": {
      "text/plain": [
       "'Arroz'"
      ]
     },
     "execution_count": 365,
     "metadata": {},
     "output_type": "execute_result"
    }
   ],
   "source": [
    "shopping.pop(2)"
   ]
  },
  {
   "cell_type": "code",
   "execution_count": 366,
   "id": "cb7bed3e",
   "metadata": {
    "ExecuteTime": {
     "end_time": "2023-01-10T05:42:36.680420Z",
     "start_time": "2023-01-10T05:42:36.668422Z"
    }
   },
   "outputs": [
    {
     "data": {
      "text/plain": [
       "['Agua', 'Leche', 'Pan', 'Pimienta', 'Limón', 'Azúcar', 'Naranja', 'Manzana']"
      ]
     },
     "execution_count": 366,
     "metadata": {},
     "output_type": "execute_result"
    }
   ],
   "source": [
    "shopping"
   ]
  },
  {
   "cell_type": "markdown",
   "id": "ea213ab0",
   "metadata": {
    "ExecuteTime": {
     "end_time": "2023-01-10T02:35:15.171214Z",
     "start_time": "2023-01-10T02:35:15.157214Z"
    }
   },
   "source": [
    "#### Borrar elemento por su contenido"
   ]
  },
  {
   "cell_type": "code",
   "execution_count": 367,
   "id": "b9b3b517",
   "metadata": {
    "ExecuteTime": {
     "end_time": "2023-01-10T05:42:36.695425Z",
     "start_time": "2023-01-10T05:42:36.683423Z"
    }
   },
   "outputs": [
    {
     "data": {
      "text/plain": [
       "['Agua', 'Leche', 'Pan', 'Pimienta', 'Limón', 'Azúcar', 'Manzana']"
      ]
     },
     "execution_count": 367,
     "metadata": {},
     "output_type": "execute_result"
    }
   ],
   "source": [
    "shopping.remove('Naranja')\n",
    "shopping"
   ]
  },
  {
   "cell_type": "markdown",
   "id": "b3fe2685",
   "metadata": {},
   "source": [
    "#### Índice de un elemento"
   ]
  },
  {
   "cell_type": "code",
   "execution_count": 368,
   "id": "1c2a2779",
   "metadata": {
    "ExecuteTime": {
     "end_time": "2023-01-10T05:42:36.727424Z",
     "start_time": "2023-01-10T05:42:36.709421Z"
    }
   },
   "outputs": [
    {
     "data": {
      "text/plain": [
       "2"
      ]
     },
     "execution_count": 368,
     "metadata": {},
     "output_type": "execute_result"
    }
   ],
   "source": [
    "shopping.index('Pan')"
   ]
  },
  {
   "cell_type": "markdown",
   "id": "e757bbf3",
   "metadata": {},
   "source": [
    "### Cadenas y Listas"
   ]
  },
  {
   "cell_type": "code",
   "execution_count": 369,
   "id": "f879678b",
   "metadata": {
    "ExecuteTime": {
     "end_time": "2023-01-10T05:42:36.742421Z",
     "start_time": "2023-01-10T05:42:36.731425Z"
    }
   },
   "outputs": [],
   "source": [
    "cadena = 'Esta es una cadena de texto'\n",
    "separador = ' '"
   ]
  },
  {
   "cell_type": "markdown",
   "id": "99f01a11",
   "metadata": {},
   "source": [
    "#### Convertir una cadena en una lista de acuerdo a un separador"
   ]
  },
  {
   "cell_type": "code",
   "execution_count": 370,
   "id": "aa9b7383",
   "metadata": {
    "ExecuteTime": {
     "end_time": "2023-01-10T05:42:36.757423Z",
     "start_time": "2023-01-10T05:42:36.745423Z"
    }
   },
   "outputs": [
    {
     "data": {
      "text/plain": [
       "['Esta', 'es', 'una', 'cadena', 'de', 'texto']"
      ]
     },
     "execution_count": 370,
     "metadata": {},
     "output_type": "execute_result"
    }
   ],
   "source": [
    "lst_palabras = cadena.split(separador)\n",
    "lst_palabras"
   ]
  },
  {
   "cell_type": "markdown",
   "id": "2ef2833e",
   "metadata": {},
   "source": [
    "#### Convertir una lista en una cadena"
   ]
  },
  {
   "cell_type": "code",
   "execution_count": 371,
   "id": "b11b171d",
   "metadata": {
    "ExecuteTime": {
     "end_time": "2023-01-10T05:42:36.773422Z",
     "start_time": "2023-01-10T05:42:36.761424Z"
    }
   },
   "outputs": [
    {
     "data": {
      "text/plain": [
       "'Esta es una cadena de texto'"
      ]
     },
     "execution_count": 371,
     "metadata": {},
     "output_type": "execute_result"
    }
   ],
   "source": [
    "separador.join(lst_palabras)"
   ]
  },
  {
   "cell_type": "code",
   "execution_count": 372,
   "id": "0595e022",
   "metadata": {},
   "outputs": [
    {
     "data": {
      "text/plain": [
       "'Esta_es_una_cadena_de_texto'"
      ]
     },
     "execution_count": 372,
     "metadata": {},
     "output_type": "execute_result"
    }
   ],
   "source": [
    "'_'.join(lst_palabras)"
   ]
  },
  {
   "cell_type": "markdown",
   "id": "04aa3487",
   "metadata": {},
   "source": [
    "### Copiar Listas"
   ]
  },
  {
   "cell_type": "code",
   "execution_count": 373,
   "id": "1bd8ec75",
   "metadata": {
    "ExecuteTime": {
     "end_time": "2023-01-10T05:42:36.789422Z",
     "start_time": "2023-01-10T05:42:36.776422Z"
    }
   },
   "outputs": [
    {
     "data": {
      "text/plain": [
       "['Agua', 'Leche', 'Pan', 'Pimienta', 'Limón', 'Azúcar', 'Manzana']"
      ]
     },
     "execution_count": 373,
     "metadata": {},
     "output_type": "execute_result"
    }
   ],
   "source": [
    "shopping"
   ]
  },
  {
   "cell_type": "markdown",
   "id": "48f4944d",
   "metadata": {},
   "source": [
    "#### Hacer otra referencia a la misma lista"
   ]
  },
  {
   "cell_type": "code",
   "execution_count": 374,
   "id": "fe92511f",
   "metadata": {
    "ExecuteTime": {
     "end_time": "2023-01-10T05:42:36.804423Z",
     "start_time": "2023-01-10T05:42:36.792425Z"
    }
   },
   "outputs": [
    {
     "data": {
      "text/plain": [
       "['Agua', 'Leche', 'Pan', 'Pimienta', 'Limón', 'Azúcar', 'Manzana']"
      ]
     },
     "execution_count": 374,
     "metadata": {},
     "output_type": "execute_result"
    }
   ],
   "source": [
    "shopping_ref = shopping\n",
    "shopping_ref"
   ]
  },
  {
   "cell_type": "code",
   "execution_count": 375,
   "id": "91c9110e",
   "metadata": {
    "ExecuteTime": {
     "end_time": "2023-01-10T05:42:36.820423Z",
     "start_time": "2023-01-10T05:42:36.807425Z"
    }
   },
   "outputs": [
    {
     "data": {
      "text/plain": [
       "['Agua', 'Leche', 'Galletas', 'Pimienta', 'Limón', 'Azúcar', 'Manzana']"
      ]
     },
     "execution_count": 375,
     "metadata": {},
     "output_type": "execute_result"
    }
   ],
   "source": [
    "#Y si cambio un elemento de shopping_ref, se cambiará en la lista original\n",
    "shopping_ref[2] = 'Galletas'\n",
    "shopping_ref"
   ]
  },
  {
   "cell_type": "code",
   "execution_count": 376,
   "id": "dcd6edd5",
   "metadata": {
    "ExecuteTime": {
     "end_time": "2023-01-10T05:42:36.836422Z",
     "start_time": "2023-01-10T05:42:36.823423Z"
    }
   },
   "outputs": [
    {
     "data": {
      "text/plain": [
       "['Agua', 'Leche', 'Galletas', 'Pimienta', 'Limón', 'Azúcar', 'Manzana']"
      ]
     },
     "execution_count": 376,
     "metadata": {},
     "output_type": "execute_result"
    }
   ],
   "source": [
    "shopping"
   ]
  },
  {
   "cell_type": "markdown",
   "id": "b7f8a636",
   "metadata": {
    "ExecuteTime": {
     "end_time": "2023-01-10T03:13:15.392305Z",
     "start_time": "2023-01-10T03:13:15.382290Z"
    }
   },
   "source": [
    "#### Copia de una lista de elementos inmutables"
   ]
  },
  {
   "cell_type": "code",
   "execution_count": 377,
   "id": "1fb07884",
   "metadata": {
    "ExecuteTime": {
     "end_time": "2023-01-10T05:42:36.852423Z",
     "start_time": "2023-01-10T05:42:36.839424Z"
    }
   },
   "outputs": [
    {
     "data": {
      "text/plain": [
       "['Agua', 'Leche', 'Galletas', 'Pimienta', 'Limón', 'Azúcar', 'Manzana']"
      ]
     },
     "execution_count": 377,
     "metadata": {},
     "output_type": "execute_result"
    }
   ],
   "source": [
    "shopping_copy = shopping.copy()\n",
    "shopping_copy"
   ]
  },
  {
   "cell_type": "code",
   "execution_count": 378,
   "id": "9362a05c",
   "metadata": {
    "ExecuteTime": {
     "end_time": "2023-01-10T05:42:36.868422Z",
     "start_time": "2023-01-10T05:42:36.858428Z"
    }
   },
   "outputs": [
    {
     "data": {
      "text/plain": [
       "['Agua', 'Leche', 'Tostadas', 'Pimienta', 'Limón', 'Azúcar', 'Manzana']"
      ]
     },
     "execution_count": 378,
     "metadata": {},
     "output_type": "execute_result"
    }
   ],
   "source": [
    "#Si cambio un elemento de la copia\n",
    "shopping_copy[2] = 'Tostadas'\n",
    "shopping_copy"
   ]
  },
  {
   "cell_type": "code",
   "execution_count": 379,
   "id": "bb571347",
   "metadata": {
    "ExecuteTime": {
     "end_time": "2023-01-10T05:42:36.883421Z",
     "start_time": "2023-01-10T05:42:36.871423Z"
    }
   },
   "outputs": [
    {
     "data": {
      "text/plain": [
       "['Agua', 'Leche', 'Galletas', 'Pimienta', 'Limón', 'Azúcar', 'Manzana']"
      ]
     },
     "execution_count": 379,
     "metadata": {},
     "output_type": "execute_result"
    }
   ],
   "source": [
    "# La lista original no se modifica\n",
    "shopping"
   ]
  },
  {
   "cell_type": "markdown",
   "id": "cc70de06",
   "metadata": {},
   "source": [
    "#### Desempaquetado"
   ]
  },
  {
   "cell_type": "code",
   "execution_count": 380,
   "id": "06b9b264",
   "metadata": {
    "ExecuteTime": {
     "end_time": "2023-01-10T05:42:36.898422Z",
     "start_time": "2023-01-10T05:42:36.886422Z"
    }
   },
   "outputs": [],
   "source": [
    "writer1, writer2, writer3 = ['Borges', 'Cortázar', 'Piñeiro']"
   ]
  },
  {
   "cell_type": "code",
   "execution_count": 381,
   "id": "dc235547",
   "metadata": {
    "ExecuteTime": {
     "end_time": "2023-01-10T05:42:36.914420Z",
     "start_time": "2023-01-10T05:42:36.901421Z"
    }
   },
   "outputs": [
    {
     "data": {
      "text/plain": [
       "'Borges'"
      ]
     },
     "execution_count": 381,
     "metadata": {},
     "output_type": "execute_result"
    }
   ],
   "source": [
    "writer1"
   ]
  },
  {
   "cell_type": "code",
   "execution_count": 382,
   "id": "68841b25",
   "metadata": {
    "ExecuteTime": {
     "end_time": "2023-01-10T05:42:36.929422Z",
     "start_time": "2023-01-10T05:42:36.916422Z"
    }
   },
   "outputs": [
    {
     "data": {
      "text/plain": [
       "'Cortázar'"
      ]
     },
     "execution_count": 382,
     "metadata": {},
     "output_type": "execute_result"
    }
   ],
   "source": [
    "writer2"
   ]
  },
  {
   "cell_type": "code",
   "execution_count": 383,
   "id": "3f65e7a2",
   "metadata": {
    "ExecuteTime": {
     "end_time": "2023-01-10T05:42:36.945420Z",
     "start_time": "2023-01-10T05:42:36.932421Z"
    }
   },
   "outputs": [
    {
     "data": {
      "text/plain": [
       "'Piñeiro'"
      ]
     },
     "execution_count": 383,
     "metadata": {},
     "output_type": "execute_result"
    }
   ],
   "source": [
    "writer3"
   ]
  },
  {
   "cell_type": "markdown",
   "id": "e7c8cbd3",
   "metadata": {},
   "source": [
    "## Tuplas"
   ]
  },
  {
   "cell_type": "markdown",
   "id": "0e54580e",
   "metadata": {
    "ExecuteTime": {
     "end_time": "2023-01-10T03:35:14.475541Z",
     "start_time": "2023-01-10T03:35:14.450523Z"
    }
   },
   "source": [
    "El concepto de tupla es muy similar al de lista. Aunque hay algunas diferencias menores, lo fundamental es que, mientras una lista es mutable y se puede modificar, una tupla no admite cambios y por lo tanto, es inmutable"
   ]
  },
  {
   "cell_type": "code",
   "execution_count": 384,
   "id": "2297500b",
   "metadata": {
    "ExecuteTime": {
     "end_time": "2023-01-10T05:42:36.961424Z",
     "start_time": "2023-01-10T05:42:36.948423Z"
    }
   },
   "outputs": [
    {
     "data": {
      "text/plain": [
       "('Melchor', 'Gaspar', 'Baltasar')"
      ]
     },
     "execution_count": 384,
     "metadata": {},
     "output_type": "execute_result"
    }
   ],
   "source": [
    "empty_tuple = ()\n",
    "tenerife_geoloc = (28.46824, -16.25462)\n",
    "three_wise_men = ('Melchor', 'Gaspar', 'Baltasar')\n",
    "three_wise_men"
   ]
  },
  {
   "cell_type": "code",
   "execution_count": 385,
   "id": "fa6d9285",
   "metadata": {},
   "outputs": [],
   "source": [
    "empty_tuple = ()"
   ]
  },
  {
   "cell_type": "code",
   "execution_count": 386,
   "id": "f2a65dd2",
   "metadata": {},
   "outputs": [
    {
     "data": {
      "text/plain": [
       "tuple"
      ]
     },
     "execution_count": 386,
     "metadata": {},
     "output_type": "execute_result"
    }
   ],
   "source": [
    "type(empty_tuple)"
   ]
  },
  {
   "cell_type": "code",
   "execution_count": 387,
   "id": "3c36ed2c",
   "metadata": {
    "ExecuteTime": {
     "end_time": "2023-01-10T05:42:36.976421Z",
     "start_time": "2023-01-10T05:42:36.964424Z"
    }
   },
   "outputs": [
    {
     "data": {
      "text/plain": [
       "('Papá Noel',)"
      ]
     },
     "execution_count": 387,
     "metadata": {},
     "output_type": "execute_result"
    }
   ],
   "source": [
    "#Tupla de un elemento\n",
    "one_item_tuple = ('Papá Noel',)\n",
    "one_item_tuple"
   ]
  },
  {
   "cell_type": "code",
   "execution_count": 388,
   "id": "c83556a2",
   "metadata": {
    "ExecuteTime": {
     "end_time": "2023-01-10T05:42:36.991426Z",
     "start_time": "2023-01-10T05:42:36.979423Z"
    }
   },
   "outputs": [
    {
     "data": {
      "text/plain": [
       "('Borges', 'Cortázar', 'Piñeiro')"
      ]
     },
     "execution_count": 388,
     "metadata": {},
     "output_type": "execute_result"
    }
   ],
   "source": [
    "# Tupla sin usar paréntesis\n",
    "tupla_shopping = writer1, writer2, writer3\n",
    "tupla_shopping"
   ]
  },
  {
   "cell_type": "markdown",
   "id": "efd29799",
   "metadata": {},
   "source": [
    "### Funciones incorporadas de python aplicables a tuplas\n",
    "Todas las funciones que vimos para listas aplican también a tuplas salvo las que intenten modificarla"
   ]
  },
  {
   "cell_type": "markdown",
   "id": "02162ddd",
   "metadata": {
    "ExecuteTime": {
     "end_time": "2023-01-10T03:40:33.218637Z",
     "start_time": "2023-01-10T03:40:33.207623Z"
    }
   },
   "source": [
    "#### Convertir un tipo de dato iterable a tupla"
   ]
  },
  {
   "cell_type": "code",
   "execution_count": 389,
   "id": "2fc85764",
   "metadata": {
    "ExecuteTime": {
     "end_time": "2023-01-10T05:42:37.007423Z",
     "start_time": "2023-01-10T05:42:36.996424Z"
    }
   },
   "outputs": [],
   "source": [
    "shopping = ['Agua', 'Aceite', 'Arroz']"
   ]
  },
  {
   "cell_type": "code",
   "execution_count": 390,
   "id": "c4443e78",
   "metadata": {
    "ExecuteTime": {
     "end_time": "2023-01-10T05:42:37.023421Z",
     "start_time": "2023-01-10T05:42:37.010423Z"
    }
   },
   "outputs": [
    {
     "data": {
      "text/plain": [
       "('Agua', 'Aceite', 'Arroz')"
      ]
     },
     "execution_count": 390,
     "metadata": {},
     "output_type": "execute_result"
    }
   ],
   "source": [
    "# Lista a tupla\n",
    "tuple_shopping = tuple(shopping)\n",
    "tuple_shopping"
   ]
  },
  {
   "cell_type": "code",
   "execution_count": 391,
   "id": "ea401f02",
   "metadata": {},
   "outputs": [
    {
     "data": {
      "text/plain": [
       "('Agua', 'Aceite', 'Arroz')"
      ]
     },
     "execution_count": 391,
     "metadata": {},
     "output_type": "execute_result"
    }
   ],
   "source": [
    "tuple_shopping"
   ]
  },
  {
   "cell_type": "code",
   "execution_count": 392,
   "id": "fd352077",
   "metadata": {},
   "outputs": [
    {
     "data": {
      "text/plain": [
       "('Borges', 'Cortázar', 'Piñeiro')"
      ]
     },
     "execution_count": 392,
     "metadata": {},
     "output_type": "execute_result"
    }
   ],
   "source": [
    "tupla_shopping"
   ]
  },
  {
   "cell_type": "code",
   "execution_count": 393,
   "id": "bf13d23c",
   "metadata": {},
   "outputs": [],
   "source": [
    "tupla_lista = (tupla_shopping, 56, 'hola')"
   ]
  },
  {
   "cell_type": "code",
   "execution_count": 394,
   "id": "f8d8f3cc",
   "metadata": {},
   "outputs": [
    {
     "data": {
      "text/plain": [
       "(('Borges', 'Cortázar', 'Piñeiro'), 56, 'hola')"
      ]
     },
     "execution_count": 394,
     "metadata": {},
     "output_type": "execute_result"
    }
   ],
   "source": [
    "tupla_lista"
   ]
  },
  {
   "cell_type": "code",
   "execution_count": 395,
   "id": "57070087",
   "metadata": {},
   "outputs": [
    {
     "ename": "AttributeError",
     "evalue": "'tuple' object has no attribute 'append'",
     "output_type": "error",
     "traceback": [
      "\u001b[1;31m---------------------------------------------------------------------------\u001b[0m",
      "\u001b[1;31mAttributeError\u001b[0m                            Traceback (most recent call last)",
      "\u001b[1;32m~\\AppData\\Local\\Temp\\ipykernel_28168\\4239812302.py\u001b[0m in \u001b[0;36m<module>\u001b[1;34m\u001b[0m\n\u001b[1;32m----> 1\u001b[1;33m \u001b[0mtupla_lista\u001b[0m\u001b[1;33m[\u001b[0m\u001b[1;36m0\u001b[0m\u001b[1;33m]\u001b[0m\u001b[1;33m.\u001b[0m\u001b[0mappend\u001b[0m\u001b[1;33m(\u001b[0m\u001b[1;34m'Bananas'\u001b[0m\u001b[1;33m)\u001b[0m\u001b[1;33m\u001b[0m\u001b[1;33m\u001b[0m\u001b[0m\n\u001b[0m",
      "\u001b[1;31mAttributeError\u001b[0m: 'tuple' object has no attribute 'append'"
     ]
    }
   ],
   "source": [
    "tupla_lista[0].append('Bananas')"
   ]
  },
  {
   "cell_type": "code",
   "execution_count": null,
   "id": "88deff18",
   "metadata": {},
   "outputs": [
    {
     "data": {
      "text/plain": [
       "(['Borges', 'Cortázar', 'Piñeiro', 'Yerba', 'Yerba', 'Yerba', 'Bananas'],)"
      ]
     },
     "execution_count": 271,
     "metadata": {},
     "output_type": "execute_result"
    }
   ],
   "source": [
    "tupla_lista"
   ]
  },
  {
   "cell_type": "markdown",
   "id": "19cc5582",
   "metadata": {
    "ExecuteTime": {
     "end_time": "2023-01-10T03:48:58.632892Z",
     "start_time": "2023-01-10T03:48:58.614895Z"
    }
   },
   "source": [
    "#### Desempaquetado"
   ]
  },
  {
   "cell_type": "code",
   "execution_count": null,
   "id": "9cfb7dd5",
   "metadata": {
    "ExecuteTime": {
     "end_time": "2023-01-10T05:42:37.039422Z",
     "start_time": "2023-01-10T05:42:37.026425Z"
    }
   },
   "outputs": [],
   "source": [
    "item1, item2, item3 = tuple_shopping"
   ]
  },
  {
   "cell_type": "code",
   "execution_count": null,
   "id": "a54695d8",
   "metadata": {
    "ExecuteTime": {
     "end_time": "2023-01-10T05:42:37.055422Z",
     "start_time": "2023-01-10T05:42:37.042426Z"
    }
   },
   "outputs": [
    {
     "data": {
      "text/plain": [
       "'Agua'"
      ]
     },
     "execution_count": 207,
     "metadata": {},
     "output_type": "execute_result"
    }
   ],
   "source": [
    "item1"
   ]
  },
  {
   "cell_type": "code",
   "execution_count": null,
   "id": "623f9d99",
   "metadata": {
    "ExecuteTime": {
     "end_time": "2023-01-10T05:42:37.070422Z",
     "start_time": "2023-01-10T05:42:37.058424Z"
    }
   },
   "outputs": [
    {
     "data": {
      "text/plain": [
       "'Aceite'"
      ]
     },
     "execution_count": 208,
     "metadata": {},
     "output_type": "execute_result"
    }
   ],
   "source": [
    "item2"
   ]
  },
  {
   "cell_type": "code",
   "execution_count": null,
   "id": "e6755fdd",
   "metadata": {
    "ExecuteTime": {
     "end_time": "2023-01-10T05:42:37.086422Z",
     "start_time": "2023-01-10T05:42:37.076423Z"
    }
   },
   "outputs": [
    {
     "data": {
      "text/plain": [
       "'Arroz'"
      ]
     },
     "execution_count": 209,
     "metadata": {},
     "output_type": "execute_result"
    }
   ],
   "source": [
    "item3"
   ]
  },
  {
   "cell_type": "markdown",
   "id": "a1006943",
   "metadata": {},
   "source": [
    "### Métodos de las tuplas"
   ]
  },
  {
   "attachments": {},
   "cell_type": "markdown",
   "id": "298132a5",
   "metadata": {},
   "source": [
    "Algunos métodos son:\n"
   ]
  },
  {
   "cell_type": "code",
   "execution_count": null,
   "id": "5d762d3c",
   "metadata": {},
   "outputs": [
    {
     "data": {
      "text/plain": [
       "['__add__',\n",
       " '__class__',\n",
       " '__contains__',\n",
       " '__delattr__',\n",
       " '__dir__',\n",
       " '__doc__',\n",
       " '__eq__',\n",
       " '__format__',\n",
       " '__ge__',\n",
       " '__getattribute__',\n",
       " '__getitem__',\n",
       " '__getnewargs__',\n",
       " '__gt__',\n",
       " '__hash__',\n",
       " '__init__',\n",
       " '__init_subclass__',\n",
       " '__iter__',\n",
       " '__le__',\n",
       " '__len__',\n",
       " '__lt__',\n",
       " '__mul__',\n",
       " '__ne__',\n",
       " '__new__',\n",
       " '__reduce__',\n",
       " '__reduce_ex__',\n",
       " '__repr__',\n",
       " '__rmul__',\n",
       " '__setattr__',\n",
       " '__sizeof__',\n",
       " '__str__',\n",
       " '__subclasshook__',\n",
       " 'count',\n",
       " 'index']"
      ]
     },
     "execution_count": 276,
     "metadata": {},
     "output_type": "execute_result"
    }
   ],
   "source": [
    "dir(tuple)"
   ]
  },
  {
   "cell_type": "code",
   "execution_count": null,
   "id": "710367ea",
   "metadata": {},
   "outputs": [],
   "source": [
    "tupla_swap = (21, 56)"
   ]
  },
  {
   "cell_type": "code",
   "execution_count": null,
   "id": "945c4397",
   "metadata": {},
   "outputs": [],
   "source": [
    "valor1, valor2 = tupla_swap"
   ]
  },
  {
   "cell_type": "code",
   "execution_count": null,
   "id": "daaabac1",
   "metadata": {},
   "outputs": [
    {
     "data": {
      "text/plain": [
       "2527723343496"
      ]
     },
     "execution_count": 285,
     "metadata": {},
     "output_type": "execute_result"
    }
   ],
   "source": [
    "id(tupla_swap)"
   ]
  },
  {
   "cell_type": "code",
   "execution_count": null,
   "id": "b92907a1",
   "metadata": {},
   "outputs": [],
   "source": [
    "tupla_swap = valor2, valor1"
   ]
  },
  {
   "cell_type": "code",
   "execution_count": null,
   "id": "81fcba4a",
   "metadata": {},
   "outputs": [
    {
     "data": {
      "text/plain": [
       "(56, 21)"
      ]
     },
     "execution_count": 294,
     "metadata": {},
     "output_type": "execute_result"
    }
   ],
   "source": [
    "tupla_swap"
   ]
  },
  {
   "cell_type": "code",
   "execution_count": null,
   "id": "e39ebca2",
   "metadata": {},
   "outputs": [
    {
     "data": {
      "text/plain": [
       "2527753433864"
      ]
     },
     "execution_count": 293,
     "metadata": {},
     "output_type": "execute_result"
    }
   ],
   "source": [
    "id(tupla_swap)"
   ]
  },
  {
   "cell_type": "markdown",
   "id": "d52d0363",
   "metadata": {},
   "source": [
    "## Diccionarios"
   ]
  },
  {
   "cell_type": "markdown",
   "id": "fdcec111",
   "metadata": {
    "ExecuteTime": {
     "end_time": "2023-01-10T04:02:34.908411Z",
     "start_time": "2023-01-10T04:02:34.891424Z"
    }
   },
   "source": [
    "Un diccionario es un objeto indexado por claves (como las palabras en un diccionario de lenguaje) que tienen asociados unos valores (los significados)"
   ]
  },
  {
   "cell_type": "markdown",
   "id": "f7640ac0",
   "metadata": {},
   "source": [
    "* Mantienen el orden en el que se insertan las claves\n",
    "* Son mutables, con lo que admiten añadir, borrar y modificar sus elementos.\n",
    "* Las claves deben ser únicas. A menudo se utilizan las cadenas de texto como claves, pero en realidad podría ser cualquier tipo de datos inmutable: enteros, flotantes, tuplas (entre otros).\n",
    "* Tienen un acceso muy rápido a sus elementos, debido a la forma en la que están implementados internamente."
   ]
  },
  {
   "cell_type": "code",
   "execution_count": null,
   "id": "6b91b7fe",
   "metadata": {
    "ExecuteTime": {
     "end_time": "2023-01-10T05:42:37.102421Z",
     "start_time": "2023-01-10T05:42:37.089422Z"
    }
   },
   "outputs": [],
   "source": [
    "empty_dict = {}\n",
    "rae =  {'bifronte': 'De dos frentes o dos caras',\n",
    "        'anarcoide': 'Que tiende al desorden',\n",
    "        'montuvio': 'Campesino de la costa'\n",
    "}\n",
    "\n",
    "population_can = {\n",
    "                    2015: 2_135_209,\n",
    "                    2016: 2_154_924,\n",
    "                    2017: 2_177_048,\n",
    "                    2018: 2_206_901,\n",
    "                    2019: 2_220_270\n",
    "}"
   ]
  },
  {
   "cell_type": "code",
   "execution_count": null,
   "id": "696a93df",
   "metadata": {
    "ExecuteTime": {
     "end_time": "2023-01-10T05:42:37.117422Z",
     "start_time": "2023-01-10T05:42:37.105422Z"
    }
   },
   "outputs": [
    {
     "data": {
      "text/plain": [
       "{'bifronte': 'De dos frentes o dos caras',\n",
       " 'anarcoide': 'Que tiende al desorden',\n",
       " 'montuvio': 'Campesino de la costa'}"
      ]
     },
     "execution_count": 211,
     "metadata": {},
     "output_type": "execute_result"
    }
   ],
   "source": [
    "rae"
   ]
  },
  {
   "cell_type": "code",
   "execution_count": null,
   "id": "eaff6768",
   "metadata": {
    "ExecuteTime": {
     "end_time": "2023-01-10T05:42:37.133422Z",
     "start_time": "2023-01-10T05:42:37.120426Z"
    }
   },
   "outputs": [
    {
     "data": {
      "text/plain": [
       "{2015: 2135209, 2016: 2154924, 2017: 2177048, 2018: 2206901, 2019: 2220270}"
      ]
     },
     "execution_count": 212,
     "metadata": {},
     "output_type": "execute_result"
    }
   ],
   "source": [
    "population_can"
   ]
  },
  {
   "cell_type": "markdown",
   "id": "468faf3d",
   "metadata": {},
   "source": [
    "### Funciones incorporadas de python aplicables a diccionarios"
   ]
  },
  {
   "cell_type": "markdown",
   "id": "6e3ad0b4",
   "metadata": {
    "ExecuteTime": {
     "end_time": "2023-01-10T04:57:57.387537Z",
     "start_time": "2023-01-10T04:57:57.380516Z"
    }
   },
   "source": [
    "#### Crear un diccionario, o convertir otro objeto en diccionario"
   ]
  },
  {
   "cell_type": "code",
   "execution_count": null,
   "id": "b0ed84e7",
   "metadata": {
    "ExecuteTime": {
     "end_time": "2023-01-10T05:42:37.149422Z",
     "start_time": "2023-01-10T05:42:37.136424Z"
    }
   },
   "outputs": [
    {
     "data": {
      "text/plain": [
       "{'a': 1, 'b': 2}"
      ]
     },
     "execution_count": 296,
     "metadata": {},
     "output_type": "execute_result"
    }
   ],
   "source": [
    "# Convertir una lista de listas en diccionario\n",
    "dict([('a', 1), ('b', 2)])"
   ]
  },
  {
   "cell_type": "markdown",
   "id": "c45d53df",
   "metadata": {},
   "source": [
    "#### Cantidad de elemento"
   ]
  },
  {
   "cell_type": "code",
   "execution_count": null,
   "id": "4ce02c22",
   "metadata": {
    "ExecuteTime": {
     "end_time": "2023-01-10T05:42:37.164422Z",
     "start_time": "2023-01-10T05:42:37.152422Z"
    }
   },
   "outputs": [
    {
     "data": {
      "text/plain": [
       "3"
      ]
     },
     "execution_count": 214,
     "metadata": {},
     "output_type": "execute_result"
    }
   ],
   "source": [
    "len(rae)"
   ]
  },
  {
   "cell_type": "markdown",
   "id": "8ebb0b09",
   "metadata": {},
   "source": [
    "#### Borar un elemento"
   ]
  },
  {
   "cell_type": "code",
   "execution_count": null,
   "id": "e0294d00",
   "metadata": {
    "ExecuteTime": {
     "end_time": "2023-01-10T05:42:37.179422Z",
     "start_time": "2023-01-10T05:42:37.167425Z"
    }
   },
   "outputs": [
    {
     "data": {
      "text/plain": [
       "{'bifronte': 'De dos frentes o dos caras',\n",
       " 'anarcoide': 'Que tiende al desorden'}"
      ]
     },
     "execution_count": 215,
     "metadata": {},
     "output_type": "execute_result"
    }
   ],
   "source": [
    "del rae['montuvio']\n",
    "rae"
   ]
  },
  {
   "cell_type": "markdown",
   "id": "f4496148",
   "metadata": {},
   "source": [
    "#### Comprobar si una clave existe en el diccionario"
   ]
  },
  {
   "cell_type": "code",
   "execution_count": null,
   "id": "29274b1b",
   "metadata": {
    "ExecuteTime": {
     "end_time": "2023-01-10T05:42:37.194422Z",
     "start_time": "2023-01-10T05:42:37.185422Z"
    }
   },
   "outputs": [
    {
     "data": {
      "text/plain": [
       "True"
      ]
     },
     "execution_count": 216,
     "metadata": {},
     "output_type": "execute_result"
    }
   ],
   "source": [
    "'bifronte' in rae"
   ]
  },
  {
   "cell_type": "markdown",
   "id": "15195cbb",
   "metadata": {},
   "source": [
    "### Operaciones con diccionarios"
   ]
  },
  {
   "cell_type": "markdown",
   "id": "e19e47c8",
   "metadata": {},
   "source": [
    "#### Obtener un elemento"
   ]
  },
  {
   "cell_type": "code",
   "execution_count": null,
   "id": "f55f0728",
   "metadata": {
    "ExecuteTime": {
     "end_time": "2023-01-10T05:42:37.210423Z",
     "start_time": "2023-01-10T05:42:37.197423Z"
    }
   },
   "outputs": [
    {
     "data": {
      "text/plain": [
       "'Que tiende al desorden'"
      ]
     },
     "execution_count": 217,
     "metadata": {},
     "output_type": "execute_result"
    }
   ],
   "source": [
    "rae['anarcoide']"
   ]
  },
  {
   "cell_type": "markdown",
   "id": "7bf000e5",
   "metadata": {},
   "source": [
    "#### Añadir un elemento\n",
    "* Si la clave ya existía en el diccionario, se reemplaza el valor existente por el nuevo.\n",
    "* Si la clave es nueva, se añade al diccionario con su valor. No vamos a obtener un error a diferencia de las listas."
   ]
  },
  {
   "cell_type": "code",
   "execution_count": null,
   "id": "2564c92e",
   "metadata": {
    "ExecuteTime": {
     "end_time": "2023-01-10T05:42:37.225424Z",
     "start_time": "2023-01-10T05:42:37.214422Z"
    }
   },
   "outputs": [],
   "source": [
    "#Añade un elemento nuevo\n",
    "rae['enjuiciar'] = 'Someter una cuestión a examen, discusión y juicio'"
   ]
  },
  {
   "cell_type": "code",
   "execution_count": null,
   "id": "604ecfec",
   "metadata": {
    "ExecuteTime": {
     "end_time": "2023-01-10T05:42:37.241421Z",
     "start_time": "2023-01-10T05:42:37.227422Z"
    }
   },
   "outputs": [
    {
     "data": {
      "text/plain": [
       "{'bifronte': 'De dos frentes o dos caras',\n",
       " 'anarcoide': 'Que tiende al desorden',\n",
       " 'enjuiciar': 'Someter una cuestión a examen, discusión y juicio'}"
      ]
     },
     "execution_count": 219,
     "metadata": {},
     "output_type": "execute_result"
    }
   ],
   "source": [
    "rae"
   ]
  },
  {
   "cell_type": "markdown",
   "id": "3722e790",
   "metadata": {},
   "source": [
    "#### Modificar un elemento existente"
   ]
  },
  {
   "cell_type": "code",
   "execution_count": null,
   "id": "bf066002",
   "metadata": {
    "ExecuteTime": {
     "end_time": "2023-01-10T05:42:37.257425Z",
     "start_time": "2023-01-10T05:42:37.244429Z"
    }
   },
   "outputs": [],
   "source": [
    "rae['enjuiciar'] = 'Instruir, juzgar o sentenciar una causa'"
   ]
  },
  {
   "cell_type": "code",
   "execution_count": null,
   "id": "4a66f948",
   "metadata": {
    "ExecuteTime": {
     "end_time": "2023-01-10T05:42:37.273421Z",
     "start_time": "2023-01-10T05:42:37.259423Z"
    }
   },
   "outputs": [
    {
     "data": {
      "text/plain": [
       "{'bifronte': 'De dos frentes o dos caras',\n",
       " 'anarcoide': 'Que tiende al desorden',\n",
       " 'enjuiciar': 'Instruir, juzgar o sentenciar una causa'}"
      ]
     },
     "execution_count": 221,
     "metadata": {},
     "output_type": "execute_result"
    }
   ],
   "source": [
    "rae"
   ]
  },
  {
   "cell_type": "markdown",
   "id": "4a815ede",
   "metadata": {},
   "source": [
    "#### Fusionar diccionarios\n",
    "* Si la clave no existe, se añade con su valor.\n",
    "* Si la clave ya existe, se añade con el valor del «último» diccionario en la mezcla"
   ]
  },
  {
   "cell_type": "code",
   "execution_count": null,
   "id": "7d165534",
   "metadata": {
    "ExecuteTime": {
     "end_time": "2023-01-10T05:42:37.289422Z",
     "start_time": "2023-01-10T05:42:37.276424Z"
    }
   },
   "outputs": [],
   "source": [
    "rae2 = {\n",
    "    'verificar': 'Comprobar o examinar la verdad de algo',\n",
    "    'montuvio': 'Campesino de la costa',\n",
    "    'enjuiciar': 'Sujetar a alguien a juicio'\n",
    "}"
   ]
  },
  {
   "cell_type": "code",
   "execution_count": null,
   "id": "e07540fa",
   "metadata": {
    "ExecuteTime": {
     "end_time": "2023-01-10T05:42:37.305421Z",
     "start_time": "2023-01-10T05:42:37.293422Z"
    }
   },
   "outputs": [
    {
     "data": {
      "text/plain": [
       "{'bifronte': 'De dos frentes o dos caras',\n",
       " 'anarcoide': 'Que tiende al desorden',\n",
       " 'enjuiciar': 'Sujetar a alguien a juicio',\n",
       " 'verificar': 'Comprobar o examinar la verdad de algo',\n",
       " 'montuvio': 'Campesino de la costa'}"
      ]
     },
     "execution_count": 223,
     "metadata": {},
     "output_type": "execute_result"
    }
   ],
   "source": [
    "{**rae, **rae2}"
   ]
  },
  {
   "cell_type": "code",
   "execution_count": null,
   "id": "f59135c1",
   "metadata": {},
   "outputs": [
    {
     "name": "stdout",
     "output_type": "stream",
     "text": [
      "['__class__', '__contains__', '__delattr__', '__delitem__', '__dir__', '__doc__', '__eq__', '__format__', '__ge__', '__getattribute__', '__getitem__', '__gt__', '__hash__', '__init__', '__init_subclass__', '__iter__', '__le__', '__len__', '__lt__', '__ne__', '__new__', '__reduce__', '__reduce_ex__', '__repr__', '__setattr__', '__setitem__', '__sizeof__', '__str__', '__subclasshook__', 'clear', 'copy', 'fromkeys', 'get', 'items', 'keys', 'pop', 'popitem', 'setdefault', 'update', 'values']\n"
     ]
    }
   ],
   "source": [
    "print(dir(dict))"
   ]
  },
  {
   "cell_type": "markdown",
   "id": "e13a4e1a",
   "metadata": {},
   "source": [
    "### Métodos de los diccionarios"
   ]
  },
  {
   "cell_type": "markdown",
   "id": "5ce74656",
   "metadata": {},
   "source": [
    "#### Obtener un elemento, si no está devuelve None"
   ]
  },
  {
   "cell_type": "code",
   "execution_count": null,
   "id": "9c641adf",
   "metadata": {
    "ExecuteTime": {
     "end_time": "2023-01-10T05:42:37.321423Z",
     "start_time": "2023-01-10T05:42:37.308424Z"
    }
   },
   "outputs": [
    {
     "name": "stdout",
     "output_type": "stream",
     "text": [
      "None\n"
     ]
    }
   ],
   "source": [
    "print(rae.get('elasticidad'))"
   ]
  },
  {
   "cell_type": "markdown",
   "id": "4301ea37",
   "metadata": {},
   "source": [
    "#### Obtener las claves"
   ]
  },
  {
   "cell_type": "code",
   "execution_count": null,
   "id": "1699f330",
   "metadata": {
    "ExecuteTime": {
     "end_time": "2023-01-10T05:42:37.337424Z",
     "start_time": "2023-01-10T05:42:37.327422Z"
    }
   },
   "outputs": [
    {
     "data": {
      "text/plain": [
       "dict_keys(['bifronte', 'anarcoide', 'enjuiciar', 'verificar', 'capturar'])"
      ]
     },
     "execution_count": 310,
     "metadata": {},
     "output_type": "execute_result"
    }
   ],
   "source": [
    "rae.keys()"
   ]
  },
  {
   "cell_type": "markdown",
   "id": "978b36a8",
   "metadata": {},
   "source": [
    "#### Obtener los valores"
   ]
  },
  {
   "cell_type": "code",
   "execution_count": null,
   "id": "3ef43ebb",
   "metadata": {
    "ExecuteTime": {
     "end_time": "2023-01-10T05:42:37.353421Z",
     "start_time": "2023-01-10T05:42:37.339423Z"
    }
   },
   "outputs": [
    {
     "data": {
      "text/plain": [
       "dict_values(['De dos frentes o dos caras', 'Que tiende al desorden', 'Instruir, juzgar o sentenciar una causa'])"
      ]
     },
     "execution_count": 226,
     "metadata": {},
     "output_type": "execute_result"
    }
   ],
   "source": [
    "rae.values()"
   ]
  },
  {
   "cell_type": "markdown",
   "id": "127e3588",
   "metadata": {},
   "source": [
    "#### Obtener los pares clave - valor"
   ]
  },
  {
   "cell_type": "code",
   "execution_count": null,
   "id": "a2d02167",
   "metadata": {
    "ExecuteTime": {
     "end_time": "2023-01-10T05:42:37.369427Z",
     "start_time": "2023-01-10T05:42:37.355422Z"
    }
   },
   "outputs": [
    {
     "data": {
      "text/plain": [
       "dict_items([('bifronte', 'De dos frentes o dos caras'), ('anarcoide', 'Que tiende al desorden'), ('enjuiciar', 'Instruir, juzgar o sentenciar una causa')])"
      ]
     },
     "execution_count": 227,
     "metadata": {},
     "output_type": "execute_result"
    }
   ],
   "source": [
    "rae.items()"
   ]
  },
  {
   "cell_type": "markdown",
   "id": "3b71617a",
   "metadata": {},
   "source": [
    "#### Agregar claves nuevas desde otro diccionario, modificando el original"
   ]
  },
  {
   "cell_type": "code",
   "execution_count": null,
   "id": "ce7ac851",
   "metadata": {
    "ExecuteTime": {
     "end_time": "2023-01-10T05:42:37.385421Z",
     "start_time": "2023-01-10T05:42:37.371425Z"
    }
   },
   "outputs": [],
   "source": [
    "rae3 = {\n",
    "    'verificar': 'Salir cierto y verdadero lo que se dijo',\n",
    "    'capturar': ' Aprehender, apoderarse de alguien o algo'\n",
    "}"
   ]
  },
  {
   "cell_type": "code",
   "execution_count": null,
   "id": "9ba4e261",
   "metadata": {
    "ExecuteTime": {
     "end_time": "2023-01-10T05:42:37.400459Z",
     "start_time": "2023-01-10T05:42:37.387422Z"
    }
   },
   "outputs": [],
   "source": [
    "rae.update(rae3)"
   ]
  },
  {
   "cell_type": "code",
   "execution_count": null,
   "id": "57600056",
   "metadata": {
    "ExecuteTime": {
     "end_time": "2023-01-10T05:42:37.416456Z",
     "start_time": "2023-01-10T05:42:37.404422Z"
    }
   },
   "outputs": [
    {
     "data": {
      "text/plain": [
       "{'bifronte': 'De dos frentes o dos caras',\n",
       " 'anarcoide': 'Que tiende al desorden',\n",
       " 'enjuiciar': 'Instruir, juzgar o sentenciar una causa',\n",
       " 'verificar': 'Salir cierto y verdadero lo que se dijo',\n",
       " 'capturar': ' Aprehender, apoderarse de alguien o algo'}"
      ]
     },
     "execution_count": 230,
     "metadata": {},
     "output_type": "execute_result"
    }
   ],
   "source": [
    "rae"
   ]
  },
  {
   "attachments": {},
   "cell_type": "markdown",
   "id": "46bb68a5",
   "metadata": {},
   "source": [
    "### Iterar elementos"
   ]
  },
  {
   "cell_type": "code",
   "execution_count": null,
   "id": "ef4e23c3",
   "metadata": {},
   "outputs": [],
   "source": [
    "shopping.extend(shopping2)"
   ]
  },
  {
   "cell_type": "code",
   "execution_count": null,
   "id": "71537f28",
   "metadata": {},
   "outputs": [
    {
     "data": {
      "text/plain": [
       "['Agua', 'Aceite', 'Arroz', 'Naranja', 'Manzana']"
      ]
     },
     "execution_count": 315,
     "metadata": {},
     "output_type": "execute_result"
    }
   ],
   "source": [
    "shopping"
   ]
  },
  {
   "cell_type": "code",
   "execution_count": null,
   "id": "77fa58ec",
   "metadata": {},
   "outputs": [
    {
     "name": "stdout",
     "output_type": "stream",
     "text": [
      "Agua\n",
      "Aceite\n",
      "Arroz\n",
      "Naranja\n",
      "Manzana\n"
     ]
    }
   ],
   "source": [
    "# Iterar una lista\n",
    "for item in shopping:\n",
    "    print(item)"
   ]
  },
  {
   "cell_type": "code",
   "execution_count": null,
   "id": "fa324d9d",
   "metadata": {},
   "outputs": [
    {
     "name": "stdout",
     "output_type": "stream",
     "text": [
      "bifronte\n",
      "anarcoide\n",
      "enjuiciar\n",
      "verificar\n",
      "capturar\n"
     ]
    }
   ],
   "source": [
    "# Iterar un diccionario, por sus claves\n",
    "for elemento in rae.keys():\n",
    "    print(elemento)"
   ]
  },
  {
   "cell_type": "code",
   "execution_count": null,
   "id": "7ea67719",
   "metadata": {},
   "outputs": [
    {
     "name": "stdout",
     "output_type": "stream",
     "text": [
      "De dos frentes o dos caras\n",
      "Que tiende al desorden\n",
      "Instruir, juzgar o sentenciar una causa\n",
      "Salir cierto y verdadero lo que se dijo\n",
      " Aprehender, apoderarse de alguien o algo\n"
     ]
    }
   ],
   "source": [
    "# Iterar un diccionario, por sus claves\n",
    "for elemento in rae.values():\n",
    "    print(elemento)"
   ]
  },
  {
   "cell_type": "code",
   "execution_count": null,
   "id": "0225a139",
   "metadata": {},
   "outputs": [
    {
     "name": "stdout",
     "output_type": "stream",
     "text": [
      "clave: bifronte -> De dos frentes o dos caras\n",
      "clave: anarcoide -> Que tiende al desorden\n",
      "clave: enjuiciar -> Instruir, juzgar o sentenciar una causa\n",
      "clave: verificar -> Salir cierto y verdadero lo que se dijo\n",
      "clave: capturar ->  Aprehender, apoderarse de alguien o algo\n"
     ]
    }
   ],
   "source": [
    "# Iterar un diccionario, por sus claves\n",
    "for clave, valor in rae.items():\n",
    "    print(f'clave: {clave} -> {valor}')"
   ]
  },
  {
   "cell_type": "code",
   "execution_count": null,
   "id": "6c8b5194",
   "metadata": {},
   "outputs": [
    {
     "name": "stdout",
     "output_type": "stream",
     "text": [
      "clave: bifronte -> De dos frentes o dos caras\n",
      "clave: anarcoide -> Que tiende al desorden\n",
      "clave: enjuiciar -> Instruir, juzgar o sentenciar una causa\n",
      "clave: verificar -> Salir cierto y verdadero lo que se dijo\n",
      "clave: capturar ->  Aprehender, apoderarse de alguien o algo\n"
     ]
    }
   ],
   "source": [
    "for clave in rae.keys():\n",
    "    print(f'clave: {clave} -> {rae[clave]}')"
   ]
  },
  {
   "cell_type": "code",
   "execution_count": null,
   "id": "d42102d0",
   "metadata": {},
   "outputs": [],
   "source": [
    "# Cambiar un elemento que antes era un string por un diccionario\n",
    "rae['verificar']={1: 'Salir cierto y verdadero lo que se dijo'}"
   ]
  },
  {
   "cell_type": "code",
   "execution_count": null,
   "id": "eaece8dc",
   "metadata": {},
   "outputs": [
    {
     "data": {
      "text/plain": [
       "{'bifronte': 'De dos frentes o dos caras',\n",
       " 'anarcoide': 'Que tiende al desorden',\n",
       " 'enjuiciar': 'Instruir, juzgar o sentenciar una causa',\n",
       " 'verificar': {1: 'Salir cierto y verdadero lo que se dijo'},\n",
       " 'capturar': ' Aprehender, apoderarse de alguien o algo'}"
      ]
     },
     "execution_count": 327,
     "metadata": {},
     "output_type": "execute_result"
    }
   ],
   "source": [
    "rae"
   ]
  },
  {
   "cell_type": "code",
   "execution_count": null,
   "id": "740c723b",
   "metadata": {},
   "outputs": [
    {
     "data": {
      "text/plain": [
       "{1: 'Salir cierto y verdadero lo que se dijo'}"
      ]
     },
     "execution_count": 328,
     "metadata": {},
     "output_type": "execute_result"
    }
   ],
   "source": [
    "rae['verificar']"
   ]
  },
  {
   "cell_type": "code",
   "execution_count": null,
   "id": "b929f778",
   "metadata": {},
   "outputs": [],
   "source": [
    "# Agregar un elemento al diccionario que creamos internamente\n",
    "rae['verificar'][2] = 'Otro'"
   ]
  },
  {
   "cell_type": "code",
   "execution_count": null,
   "id": "457a98ec",
   "metadata": {},
   "outputs": [],
   "source": [
    "rae['verificar'][3] = 'Otro2'"
   ]
  },
  {
   "cell_type": "code",
   "execution_count": null,
   "id": "6e073cbb",
   "metadata": {},
   "outputs": [
    {
     "data": {
      "text/plain": [
       "{'bifronte': 'De dos frentes o dos caras',\n",
       " 'anarcoide': 'Que tiende al desorden',\n",
       " 'enjuiciar': 'Instruir, juzgar o sentenciar una causa',\n",
       " 'verificar': {1: 'Salir cierto y verdadero lo que se dijo',\n",
       "  2: 'Otro',\n",
       "  3: 'Otro2'},\n",
       " 'capturar': ' Aprehender, apoderarse de alguien o algo'}"
      ]
     },
     "execution_count": 332,
     "metadata": {},
     "output_type": "execute_result"
    }
   ],
   "source": [
    "rae"
   ]
  },
  {
   "cell_type": "code",
   "execution_count": null,
   "id": "301d8411",
   "metadata": {},
   "outputs": [
    {
     "name": "stdout",
     "output_type": "stream",
     "text": [
      "clave: bifronte -> De dos frentes o dos caras\n",
      "clave: anarcoide -> Que tiende al desorden\n",
      "clave: enjuiciar -> Instruir, juzgar o sentenciar una causa\n",
      "clave: verificar significado 1 = Salir cierto y verdadero lo que se dijo\n",
      "clave: verificar significado 2 = Otro\n",
      "clave: verificar significado 3 = Otro2\n",
      "clave: capturar ->  Aprehender, apoderarse de alguien o algo\n"
     ]
    }
   ],
   "source": [
    "#Mostrar todos los elementos del diccionario principal y del interno\n",
    "for palabra in rae.keys():\n",
    "    if isinstance(rae[palabra], dict):\n",
    "        for clave, valor in rae[palabra].items():\n",
    "            print(f'clave: {palabra} significado {clave} = {valor}')\n",
    "    else:\n",
    "        print(f'clave: {palabra} -> {rae[palabra]}')"
   ]
  },
  {
   "cell_type": "code",
   "execution_count": null,
   "id": "78411705",
   "metadata": {},
   "outputs": [],
   "source": []
  }
 ],
 "metadata": {
  "kernelspec": {
   "display_name": "Python 3",
   "language": "python",
   "name": "python3"
  },
  "language_info": {
   "codemirror_mode": {
    "name": "ipython",
    "version": 3
   },
   "file_extension": ".py",
   "mimetype": "text/x-python",
   "name": "python",
   "nbconvert_exporter": "python",
   "pygments_lexer": "ipython3",
   "version": "3.10.4 (tags/v3.10.4:9d38120, Mar 23 2022, 23:13:41) [MSC v.1929 64 bit (AMD64)]"
  },
  "toc": {
   "base_numbering": 1,
   "nav_menu": {},
   "number_sections": true,
   "sideBar": true,
   "skip_h1_title": false,
   "title_cell": "Table of Contents",
   "title_sidebar": "Contents",
   "toc_cell": false,
   "toc_position": {},
   "toc_section_display": true,
   "toc_window_display": false
  },
  "vscode": {
   "interpreter": {
    "hash": "c63d8c7d738c2960218a10995aedf0a7f67a49a231e71037adf0440953cdb45b"
   }
  }
 },
 "nbformat": 4,
 "nbformat_minor": 5
}
